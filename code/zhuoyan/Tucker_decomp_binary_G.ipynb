{
 "cells": [
  {
   "cell_type": "markdown",
   "metadata": {},
   "source": [
    "<h1><center>Tensor decomposition on binary data</center></h1> "
   ]
  },
  {
   "cell_type": "code",
   "execution_count": 0,
   "metadata": {
    "colab": {},
    "colab_type": "code",
    "id": "_jMuQVKt71tu"
   },
   "outputs": [],
   "source": [
    "import scipy.io as sio\n",
    "import numpy as np\n",
    "import tensorly as tl\n",
    "from tensorly.decomposition import tucker\n",
    "import pandas as pd"
   ]
  },
  {
   "cell_type": "code",
   "execution_count": 18,
   "metadata": {
    "colab": {
     "base_uri": "https://localhost:8080/",
     "height": 35
    },
    "colab_type": "code",
    "id": "FJCo3FhK71uH",
    "outputId": "2d02eb78-9d47-40fd-a451-bd35066464f4"
   },
   "outputs": [
    {
     "data": {
      "text/plain": [
       "(14, 14, 56)"
      ]
     },
     "execution_count": 18,
     "metadata": {
      "tags": []
     },
     "output_type": "execute_result"
    }
   ],
   "source": [
    "#data = sio.loadmat('/My drive/Colab Notebooks/Country_Tensor/dnations')\n",
    "data = data['R']\n",
    "data.shape"
   ]
  },
  {
   "cell_type": "code",
   "execution_count": 19,
   "metadata": {
    "colab": {
     "base_uri": "https://localhost:8080/",
     "height": 87
    },
    "colab_type": "code",
    "id": "oqDuhGim71uz",
    "outputId": "ae9acce7-0e84-4b3a-dc71-a75a84c36112"
   },
   "outputs": [
    {
     "data": {
      "text/plain": [
       "array([0., 0., 0., 0., 0., 0., 0., 0., 0., 0., 0., 0., 0., 0., 0., 0., 0.,\n",
       "       0., 0., 0., 0., 0., 0., 0., 0., 0., 0., 0., 0., 0., 0., 0., 0., 0.,\n",
       "       0., 0., 0., 0., 0., 0., 0., 0., 0., 0., 0., 0., 0., 0., 0., 0., 0.,\n",
       "       0., 0., 0., 0., 0.])"
      ]
     },
     "execution_count": 19,
     "metadata": {
      "tags": []
     },
     "output_type": "execute_result"
    }
   ],
   "source": [
    "data[np.isnan(data)] = 0\n",
    "data[0,0]"
   ]
  },
  {
   "cell_type": "markdown",
   "metadata": {
    "colab_type": "text",
    "id": "1AP3IMLu71vF"
   },
   "source": [
    "## Tucker decomposition to get initial value of G, A, B, C"
   ]
  },
  {
   "cell_type": "markdown",
   "metadata": {
    "colab_type": "text",
    "id": "raslHBsX71vJ"
   },
   "source": [
    "$$\n",
    "Y \\longrightarrow 10(2Y-1)  = \\hat{Y}\n",
    "$$ \n",
    "Thus, we have:$$\n",
    "\\hat{Y}^{14*14*56} = G^{4*4*5} \\times_1 A^{14*4}\\times_2 B^{14*4} \\times_3C^{56*5}\n",
    "$$"
   ]
  },
  {
   "cell_type": "markdown",
   "metadata": {
    "colab_type": "text",
    "id": "GtSq2ho471wU"
   },
   "source": [
    "## Matrix Form GLM"
   ]
  },
  {
   "cell_type": "markdown",
   "metadata": {
    "colab_type": "text",
    "id": "3RVgrvx_71wY"
   },
   "source": [
    "Consider \n",
    "$$\n",
    "logit[E(Y))_{n*p}] = U_{n*p} = X_{n*R} \\times \\beta_{R*p}\n",
    "$$\n",
    "Where $U_{n*p} = (u_1,\\ldots,u_p)$, $\\beta_{R*p} = (\\beta_1,\\ldots, \\beta_p)$\n",
    "\n",
    "We have:\n",
    "\\begin{align*}\n",
    "\\begin{array}{c}\n",
    "   u_1^{N*1} =  X^{n*R}\\times \\beta_1^{R*1} \\\\ \n",
    "   u_2^{N*1} =  X^{n*R}\\times \\beta_2^{R*1} \\\\ \n",
    "   \\vdots\\\\\n",
    "   u_p^{N*1} =  X^{n*R}\\times \\beta_P^{R*1}\\\\ \n",
    "\\end{array}\n",
    "\\end{align*}\n",
    "Then we implement GLM."
   ]
  },
  {
   "cell_type": "markdown",
   "metadata": {
    "colab_type": "text",
    "id": "39TCkaN771wc"
   },
   "source": [
    "Then we use function to realize it:"
   ]
  },
  {
   "cell_type": "code",
   "execution_count": 0,
   "metadata": {
    "colab": {},
    "colab_type": "code",
    "id": "_wkUrdcQ71wh"
   },
   "outputs": [],
   "source": [
    "from sklearn.linear_model import LogisticRegression\n",
    "def glm_mat(U,X):\n",
    "    p = U.shape[1]               # The columns of U i.e the number for X to replicate\n",
    "    R = X.shape[1]               # The number of elements in each columns of beta_i (rows in beta)\n",
    "    beta = np.arange(R).reshape(R,1)         ## initial beta_i to concatenate\n",
    "    #print(beta)\n",
    "    for i in np.arange(p):\n",
    "        model = LogisticRegression(solver = 'liblinear', multi_class = 'ovr',fit_intercept = False)\n",
    "        model.fit(X, U[:,i])\n",
    "        beta_i = model.coef_.reshape(R,1)          ### beta_i : a R*1 vector\n",
    "        #print(beta_i)\n",
    "        beta = np.concatenate((beta, beta_i),axis = 1)\n",
    "    ## Now beta is a R*(p+1) matrix with first column need to drop\n",
    "    beta = beta[:,1:p+1]                ### drop initial column\n",
    "    return beta  "
   ]
  },
  {
   "cell_type": "code",
   "execution_count": 21,
   "metadata": {
    "colab": {
     "base_uri": "https://localhost:8080/",
     "height": 69
    },
    "colab_type": "code",
    "id": "8nEIPsch71w1",
    "outputId": "07618c41-7aab-4c32-a38c-450bfbc17eed"
   },
   "outputs": [
    {
     "data": {
      "text/plain": [
       "array([[1, 0],\n",
       "       [0, 1],\n",
       "       [1, 0]])"
      ]
     },
     "execution_count": 21,
     "metadata": {
      "tags": []
     },
     "output_type": "execute_result"
    }
   ],
   "source": [
    "b = np.array([1,0,0,1,1,0]).reshape(3,2)\n",
    "b"
   ]
  },
  {
   "cell_type": "code",
   "execution_count": 22,
   "metadata": {
    "colab": {
     "base_uri": "https://localhost:8080/",
     "height": 69
    },
    "colab_type": "code",
    "id": "9nD7_KoY71xF",
    "outputId": "936eeac5-0c75-4a43-ce0a-06612ae4d190"
   },
   "outputs": [
    {
     "data": {
      "text/plain": [
       "array([[0, 1, 2],\n",
       "       [3, 4, 5],\n",
       "       [6, 7, 8]])"
      ]
     },
     "execution_count": 22,
     "metadata": {
      "tags": []
     },
     "output_type": "execute_result"
    }
   ],
   "source": [
    "c = np.arange(9).reshape(3,3)\n",
    "c"
   ]
  },
  {
   "cell_type": "code",
   "execution_count": 23,
   "metadata": {
    "colab": {
     "base_uri": "https://localhost:8080/",
     "height": 69
    },
    "colab_type": "code",
    "id": "l8NntHrW71xV",
    "outputId": "8a7faf42-0973-4e85-9da6-81aa9f62d500"
   },
   "outputs": [
    {
     "data": {
      "text/plain": [
       "array([[-0.06988849,  0.06988849],\n",
       "       [ 0.02955993, -0.02955993],\n",
       "       [ 0.12900836, -0.12900836]])"
      ]
     },
     "execution_count": 23,
     "metadata": {
      "tags": []
     },
     "output_type": "execute_result"
    }
   ],
   "source": [
    "glm_mat(b,c)"
   ]
  },
  {
   "cell_type": "markdown",
   "metadata": {
    "colab_type": "text",
    "id": "sd_bHjxg71xw"
   },
   "source": [
    "## updating method:\n",
    "### When updating A,B,C"
   ]
  },
  {
   "cell_type": "markdown",
   "metadata": {
    "colab_type": "text",
    "id": "SCbX3SF671x4"
   },
   "source": [
    "$$\n",
    "Y^{14*14*56} = G^{4*4*5} \\times_1 A^{14*4}\\times_2 B^{14*4} \\times_3C^{56*5} = G_{AB}^{14*14*5} \\times_3 C^{56*5} \\\\\n",
    "$$\n",
    "Update A,B,C through:\n",
    "$$\n",
    "Y_{(3)}^T =  G_{AB(3)}^T C^T\n",
    "$$\n",
    "Since for distinct modes in a series of multiplications, the order of the multiplication is irrelevant. Thus, A,B,C the same update way.\n"
   ]
  },
  {
   "cell_type": "markdown",
   "metadata": {
    "colab_type": "text",
    "id": "hAVKRFny71yF"
   },
   "source": [
    "### When updating G\n",
    "##### some calculation:"
   ]
  },
  {
   "cell_type": "markdown",
   "metadata": {
    "colab_type": "text",
    "id": "HYwKfQj671yM"
   },
   "source": [
    "Consider$$\n",
    "Y^{d_1*d_2*d_3} = G^{r_1*r_2*r_3} \\times_1 A^{d_1*r_1}\\times_2 B^{d_2*r_2} \\times_3C^{d_3*r_3}\n",
    "$$\n",
    "We have:\n",
    "$$\n",
    "Y_{ijk} = \\sum_{k'=1}^{r_3}\\sum_{j'=1}^{r_2}\\sum_{i'=1}^{r_1} G_{i'j'k'}A_{ii'}B_{jj'}C_{kk'}\n",
    "$$\n",
    "Let $$[M^{ijk}]_{i'j'k'} = A_{ii'}B_{jj'}C_{kk'}$$\n",
    "$i = 1,\\ldots, d_1;j = 1,\\ldots, d_2; k = 1,\\ldots, d_3$ There are $d_1*d_2*d_3$ $M^{ijk}$ tensors totally.The dimension of $M^{ijk}$ is $r_1*r_2*r_3$.\n",
    "\n",
    "Then we have:\n",
    "$$\n",
    "Y_{ijk} = \\sum_{k'=1}^{r_3}\\sum_{j'=1}^{r_2}\\sum_{i'=1}^{r_1} G_{i'j'k'}M^{ijk}_{i'j'k'}\n",
    "$$"
   ]
  },
  {
   "cell_type": "markdown",
   "metadata": {
    "colab_type": "text",
    "id": "mCayjiJC71yQ"
   },
   "source": [
    "##### Vectorization:\n",
    "Then we define a vectorization of the tensor in this scenario:\n",
    "When we say vectorize a tensor G (3 dimension), we extract all its mode-3 fiber and then list it according first mode-2 then according to mode-1. In other words, when we count the vector elements, the element's third mode index change first, then second mode index, finally first mode index.\n",
    "\n",
    "Here is a small example for understanding:\n",
    "$$\n",
    "Vec(G^{2*2*2}) = \n",
    "\\left[\\begin{array}{c}\n",
    "G_{111}\\\\\n",
    "G_{112}\\\\\n",
    "G_{121}\\\\\n",
    "G_{122}\\\\\n",
    "G_{211}\\\\\n",
    "G_{212}\\\\\n",
    "G_{221}\\\\\n",
    "G_{222}\n",
    "\\end{array}\\right]\n",
    "$$\n",
    "\n",
    "The reason why we define like this is this is how reshape(-1) works.\n",
    "\n",
    "In python: Vec(G) = G.reshape(-1)."
   ]
  },
  {
   "cell_type": "code",
   "execution_count": 0,
   "metadata": {
    "colab": {},
    "colab_type": "code",
    "id": "EpbsvHba71yT",
    "outputId": "985f93ad-be98-4261-8a08-0e491892b634"
   },
   "outputs": [
    {
     "data": {
      "text/plain": [
       "array([[ 0,  2,  4,  6],\n",
       "       [ 8, 10, 12, 14],\n",
       "       [16, 18, 20, 22]])"
      ]
     },
     "execution_count": 46,
     "metadata": {
      "tags": []
     },
     "output_type": "execute_result"
    }
   ],
   "source": [
    "a = tl.tensor(np.arange(24).reshape((3, 4, 2)))  ##\n",
    "a[:,:,0]"
   ]
  },
  {
   "cell_type": "code",
   "execution_count": 0,
   "metadata": {
    "colab": {},
    "colab_type": "code",
    "id": "NHtHfrAs71yt",
    "outputId": "4952d480-effd-468a-f39f-cff24238f652"
   },
   "outputs": [
    {
     "data": {
      "text/plain": [
       "array([ 0,  1,  2,  3,  4,  5,  6,  7,  8,  9, 10, 11, 12, 13, 14, 15, 16,\n",
       "       17, 18, 19, 20, 21, 22, 23])"
      ]
     },
     "execution_count": 37,
     "metadata": {
      "tags": []
     },
     "output_type": "execute_result"
    }
   ],
   "source": [
    "b = a.reshape(-1)   ### Vec(a)\n",
    "b"
   ]
  },
  {
   "cell_type": "code",
   "execution_count": 0,
   "metadata": {
    "colab": {},
    "colab_type": "code",
    "id": "H3nhJt6O71y6",
    "outputId": "5937826b-c09c-4518-c08f-6b33518e79ed"
   },
   "outputs": [
    {
     "data": {
      "text/plain": [
       "array([[ 0,  2,  4,  6],\n",
       "       [ 8, 10, 12, 14],\n",
       "       [16, 18, 20, 22]])"
      ]
     },
     "execution_count": 42,
     "metadata": {
      "tags": []
     },
     "output_type": "execute_result"
    }
   ],
   "source": [
    "b.reshape(3,4,2)[:,:,0]"
   ]
  },
  {
   "cell_type": "markdown",
   "metadata": {
    "colab_type": "text",
    "id": "EixY-LA971zC"
   },
   "source": [
    "Recalling  $$[M^{ijk}]_{i'j'k'} = A_{ii'}B_{jj'}C_{kk'}$$\n",
    "\n",
    "We have \n",
    "\\begin{align}\n",
    "Vec(M^{ijk}) = \n",
    "\\left[\\begin{array}{c}\n",
    "A_{i1}B_{j1}C_{k1}\\\\\n",
    "A_{i1}B_{j1}C_{k2}\\\\\n",
    "\\vdots\\\\\n",
    "A_{i1}B_{j1}C_{kr_3}\\\\\n",
    "\\vdots\\\\\n",
    "\\vdots\\\\\n",
    "A_{i1}B_{j2}C_{k1}\\\\\n",
    "A_{i1}B_{j2}C_{k2}\\\\\n",
    "\\vdots\\\\\n",
    "A_{i1}B_{j2}C_{kr_3}\\\\\n",
    "\\vdots\\\\\n",
    "\\vdots\\\\\n",
    "A_{ir_1}B_{jr_2}C_{k1}\\\\\n",
    "A_{ir_1}B_{jr_2}C_{k2}\\\\\n",
    "\\vdots\\\\\n",
    "A_{ir_1}B_{jr_2}C_{kr_3}\n",
    "\\end{array}\\right]_{r_1r_2r_3*1}  =\n",
    "A_{i:} \\otimes B_{j:} \\otimes C_{k:}\n",
    "\\end{align}\n",
    "\n",
    "The kronecker decomposition is consistent with the python code tl.tenalg.kronecker."
   ]
  },
  {
   "cell_type": "markdown",
   "metadata": {
    "colab_type": "text",
    "id": "QSygjCld71zO"
   },
   "source": [
    "Then we have:$$\n",
    "Y_{ijk} = \\sum_{k'=1}^{r_3}\\sum_{j'=1}^{r_2}\\sum_{i'=1}^{r_1} G_{i'j'k'}M^{ijk}_{i'j'k'}\\\\\n",
    "=Vec(G)^TVec(M^{ijk}) = Vec(M^{ijk})^T_{1*r_1r_2r_3}Vec(G)_{r_1r_2r_3*1}\n",
    "$$"
   ]
  },
  {
   "cell_type": "markdown",
   "metadata": {
    "colab_type": "text",
    "id": "yRHxrD0N71zQ"
   },
   "source": [
    "First step:\n",
    "\\begin{align*}\n",
    "Y_{ij:} =\n",
    "\\left[\\begin{array}{c}\n",
    "y_{ij1}\\\\\n",
    "y_{ij2}\\\\\n",
    "\\vdots\\\\\n",
    "y_{ijd_3}\\\\\n",
    "\\end{array}\\right]_{d_3*1}  =\n",
    "\\left[\\begin{array}{c}\n",
    " Vec(M^{ij1})^T\\\\\n",
    " Vec(M^{ij2})^T\\\\\n",
    "\\vdots\\\\\n",
    " Vec(M^{ijd_3})^T\\\\\n",
    "\\end{array}\\right]_{d_3*r_1r_2r_3} \\times\n",
    "Vec(G)_{r_1r_2r_3*1} = \n",
    " Vec(M_{ijd_3})\\times Vec(G)\n",
    "\\end{align*}"
   ]
  },
  {
   "cell_type": "markdown",
   "metadata": {
    "colab_type": "text",
    "id": "yyPXt5ri71zT"
   },
   "source": [
    "Second step:\n",
    "\\begin{align*}\n",
    "Y_{i::} =\n",
    "\\left[\\begin{array}{c}\n",
    "y_{i1:}\\\\\n",
    "y_{i2:}\\\\\n",
    "\\vdots\\\\\n",
    "y_{id_2:}\\\\\n",
    "\\end{array}\\right]_{d_2d_3*1}  =\n",
    "\\left[\\begin{array}{c}\n",
    " Vec(M_{i1d_3})\\\\\n",
    " Vec(M_{i2d_3})\\\\\n",
    "\\vdots\\\\\n",
    " Vec(M_{id_2d_3})\\\\\n",
    "\\end{array}\\right]_{d_2d_3*r_1r_2r_3} \\times\n",
    "Vec(G)_{r_1r_2r_3*1} = \n",
    " Vec(M_{id_2d_3})\\times Vec(G)\n",
    "\\end{align*}"
   ]
  },
  {
   "cell_type": "markdown",
   "metadata": {
    "colab_type": "text",
    "id": "JP2_5u3B71zW"
   },
   "source": [
    "Final step:\n",
    "\\begin{align*}\n",
    "Y_{:::} =\n",
    "\\left[\\begin{array}{c}\n",
    "y_{1::}\\\\\n",
    "y_{2::}\\\\\n",
    "\\vdots\\\\\n",
    "y_{d_1::}\\\\\n",
    "\\end{array}\\right]_{d_1d_2d_3*1}  =\n",
    "\\left[\\begin{array}{c}\n",
    " Vec(M_{1d_2d_3})\\\\\n",
    " Vec(M_{2d_2d_3})\\\\\n",
    "\\vdots\\\\\n",
    " Vec(M_{d_1d_2d_3})\\\\\n",
    "\\end{array}\\right]_{d_1d_2d_3*r_1r_2r_3} \\times\n",
    "Vec(G)_{r_1r_2r_3*1} =\n",
    "M^{long}_{d_1d_2d_3*r_1r_2r_3} \\times\n",
    "Vec(G)_{r_1r_2r_3*1}\n",
    "\\end{align*}\n",
    "Where $Y_{:::}$ is the Vec(Y) vectorization of Y we defined brfore."
   ]
  },
  {
   "cell_type": "code",
   "execution_count": 0,
   "metadata": {
    "colab": {},
    "colab_type": "code",
    "id": "fd8Bb08A71zb"
   },
   "outputs": [],
   "source": [
    "def sigmoid(x):\n",
    "    return 1/(1 + np.exp(-x))"
   ]
  },
  {
   "cell_type": "code",
   "execution_count": 0,
   "metadata": {
    "colab": {},
    "colab_type": "code",
    "id": "ke2qfo1O71zr"
   },
   "outputs": [],
   "source": [
    "from sklearn.linear_model import LogisticRegression\n",
    "from sklearn.metrics import log_loss\n",
    "\n",
    "def update_binary(data,core_shape, Nsim):\n",
    "    data1 = 10*(2*data - 1)\n",
    "    core, factors = tucker(data1,ranks=core_shape)\n",
    "    Y_1 = tl.unfold(data,mode = 0)\n",
    "    Y_2 = tl.unfold(data,mode = 1)\n",
    "    Y_3 = tl.unfold(data,mode = 2)        ## get three unfold matrix\n",
    "    A = factors[0]   ## 14*4   d1*r1\n",
    "    B = factors[1]   ## 14*4   d2*r2\n",
    "    C = factors[2]   ## 56*5   d3*r3\n",
    "    G = core\n",
    "    d1 = data.shape[0] ; d2 = data.shape[1] ; d3 = data.shape[2]  \n",
    "    r1 = core_shape[0] ; r2 = core_shape[1] ; r3 = core_shape[2] \n",
    "    \n",
    "    ### kind of a flaw  since Y_3 some columns are all zero\n",
    "    #Y_3[0,np.where(Y_3.sum(0) == 0)] = 1\n",
    "    ###\n",
    "    \n",
    "    loss_A = np.ones(Nsim)\n",
    "    loss_B = np.ones(Nsim)\n",
    "    loss_C = np.ones(Nsim)\n",
    "    loss_G = np.ones(Nsim)\n",
    "    for n in np.arange(Nsim):\n",
    "        G_AB = tl.tenalg.multi_mode_dot(G,factors[:2],modes = [0,1])     ##  14*14*5    d1,d2,r3\n",
    "        G_AC = tl.tenalg.multi_mode_dot(G,factors[0::2],modes = [0,2])   ## 14*4*56     d1,r2,d3\n",
    "        G_BC = tl.tenalg.multi_mode_dot(G,factors[1:],modes = [1,2])     ## 4*14*56     r1,d2,d3\n",
    "        \n",
    "        ###### update A\n",
    "        G_BC_1 = tl.unfold(G_BC,mode = 0)\n",
    "        #print(G_BC.shape)\n",
    "        A = glm_mat(Y_1.transpose(),G_BC_1.transpose()).transpose()\n",
    "        ## cross_entropy loss when update A\n",
    "        prob_A = sigmoid(A.dot(G_BC_1)).reshape(-1)\n",
    "        loss_A[n] = log_loss(Y_1.reshape(-1),prob_A)\n",
    "        \n",
    "        ## update B\n",
    "        G_AC_2 = tl.unfold(G_AC,mode = 1)\n",
    "        #print(Y_2.shape)\n",
    "        B = glm_mat(Y_2.transpose(),G_AC_2.transpose()).transpose()\n",
    "        ## cross_entropy loss when update B\n",
    "        prob_B = sigmoid(B.dot(G_AC_2)).reshape(-1)\n",
    "        loss_B[n] = log_loss(Y_2.reshape(-1),prob_B)\n",
    "    \n",
    "        ## update C\n",
    "        G_AB_3 = tl.unfold(G_AB,mode = 2)\n",
    "        C = glm_mat(Y_3.transpose(),G_AB_3.transpose()).transpose()\n",
    "        ## cross_entropy loss when update C\n",
    "        prob_C = sigmoid(C.dot(G_AB_3)).reshape(-1)\n",
    "        loss_C[n] = log_loss(Y_3.reshape(-1),prob_C)\n",
    "        \n",
    "        ## update G\n",
    "        ## construct M^long\n",
    "        M_long = np.arange(r1*r2*r3).reshape(1,-1)    ## With initial row\n",
    "        for i in np.arange(d1):\n",
    "            for j in np.arange(d2):\n",
    "                for k in np.arange(d3):\n",
    "                    Vec_M_ijk = tl.tenalg.kronecker((A[i,:],B[j,:],C[k,:])).reshape(1,-1)  \n",
    "                    M_long = np.concatenate((M_long,Vec_M_ijk), axis = 0)\n",
    "                              \n",
    "        ##  Now M_long is a (d1d2d3+1)*r1r2r3 matrix with first row need to drop\n",
    "        M_long = M_long[1:d1*d2*d3 + 1,:]\n",
    "        model = LogisticRegression(solver = 'liblinear', multi_class = 'ovr',fit_intercept = False)\n",
    "        model.fit(M_long, data.reshape(-1))\n",
    "        G_new_vec = model.coef_\n",
    "        \n",
    "        ## cross_entropy loss when update G\n",
    "        Net_input = M_long.dot(G_new_vec.reshape(-1,1))           ## shape = (d1d2d3,1)\n",
    "        # print(Net_input.shape)\n",
    "        prob = sigmoid(Net_input).reshape(-1)\n",
    "        loss_G[n] = log_loss(data.reshape(-1),prob)   ### cross_entropy loss\n",
    "        \n",
    "        G_new = G_new_vec.reshape(r1,r2,r3)\n",
    "\n",
    "        \n",
    "        G = G_new\n",
    "\n",
    "     \n",
    "    factors = [A,B,C]\n",
    "    return G,factors, loss_A,loss_B,loss_C, loss_G    \n",
    "    "
   ]
  },
  {
   "cell_type": "code",
   "execution_count": 0,
   "metadata": {
    "colab": {},
    "colab_type": "code",
    "id": "db4M7Gu771zx"
   },
   "outputs": [],
   "source": [
    "core, membership,loss_A,loss_B,loss_C, loss_G= update_binary(data,[4,4,5],100)"
   ]
  },
  {
   "cell_type": "code",
   "execution_count": 39,
   "metadata": {
    "colab": {
     "base_uri": "https://localhost:8080/",
     "height": 365
    },
    "colab_type": "code",
    "id": "uPdEvRQt710B",
    "outputId": "9609387c-f518-46b5-c794-4807c9499753"
   },
   "outputs": [
    {
     "data": {
      "text/plain": [
       "[<matplotlib.lines.Line2D at 0x7f506b1ae6a0>]"
      ]
     },
     "execution_count": 39,
     "metadata": {
      "tags": []
     },
     "output_type": "execute_result"
    },
    {
     "data": {
      "image/png": "[encoded data removed]",
      "text/plain": [
       "<Figure size 576x396 with 1 Axes>"
      ]
     },
     "metadata": {
      "tags": []
     },
     "output_type": "display_data"
    }
   ],
   "source": [
    "plt.plot(loss_G)"
   ]
  },
  {
   "cell_type": "code",
   "execution_count": 44,
   "metadata": {
    "colab": {
     "base_uri": "https://localhost:8080/",
     "height": 365
    },
    "colab_type": "code",
    "id": "Cz_WnXjc710O",
    "outputId": "69f6600b-6ed3-407f-80da-37e46da15dab"
   },
   "outputs": [
    {
     "data": {
      "text/plain": [
       "[<matplotlib.lines.Line2D at 0x7f506b18b128>]"
      ]
     },
     "execution_count": 44,
     "metadata": {
      "tags": []
     },
     "output_type": "execute_result"
    },
    {
     "data": {
      "image/png": "[encoded data removed]",
      "text/plain": [
       "<Figure size 576x396 with 1 Axes>"
      ]
     },
     "metadata": {
      "tags": []
     },
     "output_type": "display_data"
    }
   ],
   "source": [
    "plt.plot(loss_A)"
   ]
  },
  {
   "cell_type": "code",
   "execution_count": 45,
   "metadata": {
    "colab": {
     "base_uri": "https://localhost:8080/",
     "height": 365
    },
    "colab_type": "code",
    "id": "kppGRad0710a",
    "outputId": "7130ea0e-4d51-4391-a00f-593109925657"
   },
   "outputs": [
    {
     "data": {
      "text/plain": [
       "[<matplotlib.lines.Line2D at 0x7f506b0dc8d0>]"
      ]
     },
     "execution_count": 45,
     "metadata": {
      "tags": []
     },
     "output_type": "execute_result"
    },
    {
     "data": {
      "image/png": "[encoded data removed]",
      "text/plain": [
       "<Figure size 576x396 with 1 Axes>"
      ]
     },
     "metadata": {
      "tags": []
     },
     "output_type": "display_data"
    }
   ],
   "source": [
    "plt.plot(loss_B)"
   ]
  },
  {
   "cell_type": "code",
   "execution_count": 46,
   "metadata": {
    "colab": {
     "base_uri": "https://localhost:8080/",
     "height": 365
    },
    "colab_type": "code",
    "id": "dRCVgDqc710m",
    "outputId": "7ddf3b81-feb2-46c5-cfd8-109ce1097a6a"
   },
   "outputs": [
    {
     "data": {
      "text/plain": [
       "[<matplotlib.lines.Line2D at 0x7f506b0b70b8>]"
      ]
     },
     "execution_count": 46,
     "metadata": {
      "tags": []
     },
     "output_type": "execute_result"
    },
    {
     "data": {
      "image/png": "[encoded data removed]",
      "text/plain": [
       "<Figure size 576x396 with 1 Axes>"
      ]
     },
     "metadata": {
      "tags": []
     },
     "output_type": "display_data"
    }
   ],
   "source": [
    "plt.plot(loss_C)"
   ]
  },
  {
   "cell_type": "code",
   "execution_count": 0,
   "metadata": {
    "colab": {},
    "colab_type": "code",
    "id": "V_C1qXnn7100"
   },
   "outputs": [],
   "source": []
  },
  {
   "cell_type": "markdown",
   "metadata": {
    "colab_type": "text",
    "id": "-_Dy6fLL7105"
   },
   "source": [
    "## Kmeans to cluster"
   ]
  },
  {
   "cell_type": "code",
   "execution_count": 47,
   "metadata": {
    "colab": {
     "base_uri": "https://localhost:8080/",
     "height": 69
    },
    "colab_type": "code",
    "id": "Y0jk45607107",
    "outputId": "52d371e3-27a5-4182-f11f-2a8ae5992024"
   },
   "outputs": [
    {
     "data": {
      "text/plain": [
       "KMeans(algorithm='auto', copy_x=True, init='k-means++', max_iter=300,\n",
       "    n_clusters=5, n_init=10, n_jobs=None, precompute_distances='auto',\n",
       "    random_state=0, tol=0.0001, verbose=0)"
      ]
     },
     "execution_count": 47,
     "metadata": {
      "tags": []
     },
     "output_type": "execute_result"
    }
   ],
   "source": [
    "from sklearn.cluster import KMeans\n",
    "km0 = KMeans(n_clusters=4, random_state=0)\n",
    "km0.fit(membership[0])\n",
    "\n",
    "km1 = KMeans(n_clusters=4, random_state=0)\n",
    "km1.fit(membership[1])\n",
    "\n",
    "km2 = KMeans(n_clusters=5, random_state=0)\n",
    "km2.fit(membership[2])"
   ]
  },
  {
   "cell_type": "code",
   "execution_count": 48,
   "metadata": {
    "colab": {
     "base_uri": "https://localhost:8080/",
     "height": 478
    },
    "colab_type": "code",
    "id": "6SVjJ7fP711B",
    "outputId": "639ca69f-2830-4cab-cb29-0112d4d335f4"
   },
   "outputs": [
    {
     "data": {
      "text/html": [
       "<div>\n",
       "<style scoped>\n",
       "    .dataframe tbody tr th:only-of-type {\n",
       "        vertical-align: middle;\n",
       "    }\n",
       "\n",
       "    .dataframe tbody tr th {\n",
       "        vertical-align: top;\n",
       "    }\n",
       "\n",
       "    .dataframe thead th {\n",
       "        text-align: right;\n",
       "    }\n",
       "</style>\n",
       "<table border=\"1\" class=\"dataframe\">\n",
       "  <thead>\n",
       "    <tr style=\"text-align: right;\">\n",
       "      <th></th>\n",
       "      <th>0</th>\n",
       "      <th>1</th>\n",
       "      <th>2</th>\n",
       "      <th>3</th>\n",
       "    </tr>\n",
       "  </thead>\n",
       "  <tbody>\n",
       "    <tr>\n",
       "      <th>0</th>\n",
       "      <td>0</td>\n",
       "      <td>0</td>\n",
       "      <td>0</td>\n",
       "      <td>1</td>\n",
       "    </tr>\n",
       "    <tr>\n",
       "      <th>1</th>\n",
       "      <td>1</td>\n",
       "      <td>0</td>\n",
       "      <td>0</td>\n",
       "      <td>0</td>\n",
       "    </tr>\n",
       "    <tr>\n",
       "      <th>2</th>\n",
       "      <td>0</td>\n",
       "      <td>1</td>\n",
       "      <td>0</td>\n",
       "      <td>0</td>\n",
       "    </tr>\n",
       "    <tr>\n",
       "      <th>3</th>\n",
       "      <td>0</td>\n",
       "      <td>1</td>\n",
       "      <td>0</td>\n",
       "      <td>0</td>\n",
       "    </tr>\n",
       "    <tr>\n",
       "      <th>4</th>\n",
       "      <td>0</td>\n",
       "      <td>0</td>\n",
       "      <td>0</td>\n",
       "      <td>1</td>\n",
       "    </tr>\n",
       "    <tr>\n",
       "      <th>5</th>\n",
       "      <td>1</td>\n",
       "      <td>0</td>\n",
       "      <td>0</td>\n",
       "      <td>0</td>\n",
       "    </tr>\n",
       "    <tr>\n",
       "      <th>6</th>\n",
       "      <td>1</td>\n",
       "      <td>0</td>\n",
       "      <td>0</td>\n",
       "      <td>0</td>\n",
       "    </tr>\n",
       "    <tr>\n",
       "      <th>7</th>\n",
       "      <td>0</td>\n",
       "      <td>0</td>\n",
       "      <td>1</td>\n",
       "      <td>0</td>\n",
       "    </tr>\n",
       "    <tr>\n",
       "      <th>8</th>\n",
       "      <td>1</td>\n",
       "      <td>0</td>\n",
       "      <td>0</td>\n",
       "      <td>0</td>\n",
       "    </tr>\n",
       "    <tr>\n",
       "      <th>9</th>\n",
       "      <td>1</td>\n",
       "      <td>0</td>\n",
       "      <td>0</td>\n",
       "      <td>0</td>\n",
       "    </tr>\n",
       "    <tr>\n",
       "      <th>10</th>\n",
       "      <td>0</td>\n",
       "      <td>1</td>\n",
       "      <td>0</td>\n",
       "      <td>0</td>\n",
       "    </tr>\n",
       "    <tr>\n",
       "      <th>11</th>\n",
       "      <td>0</td>\n",
       "      <td>1</td>\n",
       "      <td>0</td>\n",
       "      <td>0</td>\n",
       "    </tr>\n",
       "    <tr>\n",
       "      <th>12</th>\n",
       "      <td>0</td>\n",
       "      <td>0</td>\n",
       "      <td>1</td>\n",
       "      <td>0</td>\n",
       "    </tr>\n",
       "    <tr>\n",
       "      <th>13</th>\n",
       "      <td>0</td>\n",
       "      <td>0</td>\n",
       "      <td>1</td>\n",
       "      <td>0</td>\n",
       "    </tr>\n",
       "  </tbody>\n",
       "</table>\n",
       "</div>"
      ],
      "text/plain": [
       "    0  1  2  3\n",
       "0   0  0  0  1\n",
       "1   1  0  0  0\n",
       "2   0  1  0  0\n",
       "3   0  1  0  0\n",
       "4   0  0  0  1\n",
       "5   1  0  0  0\n",
       "6   1  0  0  0\n",
       "7   0  0  1  0\n",
       "8   1  0  0  0\n",
       "9   1  0  0  0\n",
       "10  0  1  0  0\n",
       "11  0  1  0  0\n",
       "12  0  0  1  0\n",
       "13  0  0  1  0"
      ]
     },
     "execution_count": 48,
     "metadata": {
      "tags": []
     },
     "output_type": "execute_result"
    }
   ],
   "source": [
    "pd.get_dummies(km0.labels_)"
   ]
  },
  {
   "cell_type": "code",
   "execution_count": 49,
   "metadata": {
    "colab": {
     "base_uri": "https://localhost:8080/",
     "height": 478
    },
    "colab_type": "code",
    "id": "8d2JYd1i711H",
    "outputId": "cf1d5460-6e1f-44b0-b488-da253a1631dc"
   },
   "outputs": [
    {
     "data": {
      "text/html": [
       "<div>\n",
       "<style scoped>\n",
       "    .dataframe tbody tr th:only-of-type {\n",
       "        vertical-align: middle;\n",
       "    }\n",
       "\n",
       "    .dataframe tbody tr th {\n",
       "        vertical-align: top;\n",
       "    }\n",
       "\n",
       "    .dataframe thead th {\n",
       "        text-align: right;\n",
       "    }\n",
       "</style>\n",
       "<table border=\"1\" class=\"dataframe\">\n",
       "  <thead>\n",
       "    <tr style=\"text-align: right;\">\n",
       "      <th></th>\n",
       "      <th>0</th>\n",
       "      <th>1</th>\n",
       "      <th>2</th>\n",
       "      <th>3</th>\n",
       "    </tr>\n",
       "  </thead>\n",
       "  <tbody>\n",
       "    <tr>\n",
       "      <th>0</th>\n",
       "      <td>0</td>\n",
       "      <td>0</td>\n",
       "      <td>1</td>\n",
       "      <td>0</td>\n",
       "    </tr>\n",
       "    <tr>\n",
       "      <th>1</th>\n",
       "      <td>1</td>\n",
       "      <td>0</td>\n",
       "      <td>0</td>\n",
       "      <td>0</td>\n",
       "    </tr>\n",
       "    <tr>\n",
       "      <th>2</th>\n",
       "      <td>1</td>\n",
       "      <td>0</td>\n",
       "      <td>0</td>\n",
       "      <td>0</td>\n",
       "    </tr>\n",
       "    <tr>\n",
       "      <th>3</th>\n",
       "      <td>1</td>\n",
       "      <td>0</td>\n",
       "      <td>0</td>\n",
       "      <td>0</td>\n",
       "    </tr>\n",
       "    <tr>\n",
       "      <th>4</th>\n",
       "      <td>0</td>\n",
       "      <td>0</td>\n",
       "      <td>0</td>\n",
       "      <td>1</td>\n",
       "    </tr>\n",
       "    <tr>\n",
       "      <th>5</th>\n",
       "      <td>0</td>\n",
       "      <td>0</td>\n",
       "      <td>0</td>\n",
       "      <td>1</td>\n",
       "    </tr>\n",
       "    <tr>\n",
       "      <th>6</th>\n",
       "      <td>1</td>\n",
       "      <td>0</td>\n",
       "      <td>0</td>\n",
       "      <td>0</td>\n",
       "    </tr>\n",
       "    <tr>\n",
       "      <th>7</th>\n",
       "      <td>0</td>\n",
       "      <td>0</td>\n",
       "      <td>0</td>\n",
       "      <td>1</td>\n",
       "    </tr>\n",
       "    <tr>\n",
       "      <th>8</th>\n",
       "      <td>1</td>\n",
       "      <td>0</td>\n",
       "      <td>0</td>\n",
       "      <td>0</td>\n",
       "    </tr>\n",
       "    <tr>\n",
       "      <th>9</th>\n",
       "      <td>0</td>\n",
       "      <td>0</td>\n",
       "      <td>1</td>\n",
       "      <td>0</td>\n",
       "    </tr>\n",
       "    <tr>\n",
       "      <th>10</th>\n",
       "      <td>0</td>\n",
       "      <td>0</td>\n",
       "      <td>0</td>\n",
       "      <td>1</td>\n",
       "    </tr>\n",
       "    <tr>\n",
       "      <th>11</th>\n",
       "      <td>0</td>\n",
       "      <td>0</td>\n",
       "      <td>0</td>\n",
       "      <td>1</td>\n",
       "    </tr>\n",
       "    <tr>\n",
       "      <th>12</th>\n",
       "      <td>0</td>\n",
       "      <td>1</td>\n",
       "      <td>0</td>\n",
       "      <td>0</td>\n",
       "    </tr>\n",
       "    <tr>\n",
       "      <th>13</th>\n",
       "      <td>0</td>\n",
       "      <td>1</td>\n",
       "      <td>0</td>\n",
       "      <td>0</td>\n",
       "    </tr>\n",
       "  </tbody>\n",
       "</table>\n",
       "</div>"
      ],
      "text/plain": [
       "    0  1  2  3\n",
       "0   0  0  1  0\n",
       "1   1  0  0  0\n",
       "2   1  0  0  0\n",
       "3   1  0  0  0\n",
       "4   0  0  0  1\n",
       "5   0  0  0  1\n",
       "6   1  0  0  0\n",
       "7   0  0  0  1\n",
       "8   1  0  0  0\n",
       "9   0  0  1  0\n",
       "10  0  0  0  1\n",
       "11  0  0  0  1\n",
       "12  0  1  0  0\n",
       "13  0  1  0  0"
      ]
     },
     "execution_count": 49,
     "metadata": {
      "tags": []
     },
     "output_type": "execute_result"
    }
   ],
   "source": [
    "pd.get_dummies(km1.labels_)"
   ]
  },
  {
   "cell_type": "code",
   "execution_count": 50,
   "metadata": {
    "colab": {
     "base_uri": "https://localhost:8080/",
     "height": 1766
    },
    "colab_type": "code",
    "id": "sYYdDIFQ711M",
    "outputId": "9edb752b-86ad-4021-e459-f65b445874f5"
   },
   "outputs": [
    {
     "data": {
      "text/html": [
       "<div>\n",
       "<style scoped>\n",
       "    .dataframe tbody tr th:only-of-type {\n",
       "        vertical-align: middle;\n",
       "    }\n",
       "\n",
       "    .dataframe tbody tr th {\n",
       "        vertical-align: top;\n",
       "    }\n",
       "\n",
       "    .dataframe thead th {\n",
       "        text-align: right;\n",
       "    }\n",
       "</style>\n",
       "<table border=\"1\" class=\"dataframe\">\n",
       "  <thead>\n",
       "    <tr style=\"text-align: right;\">\n",
       "      <th></th>\n",
       "      <th>0</th>\n",
       "      <th>1</th>\n",
       "      <th>2</th>\n",
       "      <th>3</th>\n",
       "      <th>4</th>\n",
       "    </tr>\n",
       "  </thead>\n",
       "  <tbody>\n",
       "    <tr>\n",
       "      <th>0</th>\n",
       "      <td>0</td>\n",
       "      <td>1</td>\n",
       "      <td>0</td>\n",
       "      <td>0</td>\n",
       "      <td>0</td>\n",
       "    </tr>\n",
       "    <tr>\n",
       "      <th>1</th>\n",
       "      <td>0</td>\n",
       "      <td>1</td>\n",
       "      <td>0</td>\n",
       "      <td>0</td>\n",
       "      <td>0</td>\n",
       "    </tr>\n",
       "    <tr>\n",
       "      <th>2</th>\n",
       "      <td>0</td>\n",
       "      <td>0</td>\n",
       "      <td>0</td>\n",
       "      <td>1</td>\n",
       "      <td>0</td>\n",
       "    </tr>\n",
       "    <tr>\n",
       "      <th>3</th>\n",
       "      <td>0</td>\n",
       "      <td>0</td>\n",
       "      <td>0</td>\n",
       "      <td>1</td>\n",
       "      <td>0</td>\n",
       "    </tr>\n",
       "    <tr>\n",
       "      <th>4</th>\n",
       "      <td>0</td>\n",
       "      <td>1</td>\n",
       "      <td>0</td>\n",
       "      <td>0</td>\n",
       "      <td>0</td>\n",
       "    </tr>\n",
       "    <tr>\n",
       "      <th>5</th>\n",
       "      <td>0</td>\n",
       "      <td>0</td>\n",
       "      <td>1</td>\n",
       "      <td>0</td>\n",
       "      <td>0</td>\n",
       "    </tr>\n",
       "    <tr>\n",
       "      <th>6</th>\n",
       "      <td>0</td>\n",
       "      <td>1</td>\n",
       "      <td>0</td>\n",
       "      <td>0</td>\n",
       "      <td>0</td>\n",
       "    </tr>\n",
       "    <tr>\n",
       "      <th>7</th>\n",
       "      <td>0</td>\n",
       "      <td>1</td>\n",
       "      <td>0</td>\n",
       "      <td>0</td>\n",
       "      <td>0</td>\n",
       "    </tr>\n",
       "    <tr>\n",
       "      <th>8</th>\n",
       "      <td>0</td>\n",
       "      <td>0</td>\n",
       "      <td>0</td>\n",
       "      <td>1</td>\n",
       "      <td>0</td>\n",
       "    </tr>\n",
       "    <tr>\n",
       "      <th>9</th>\n",
       "      <td>0</td>\n",
       "      <td>0</td>\n",
       "      <td>0</td>\n",
       "      <td>1</td>\n",
       "      <td>0</td>\n",
       "    </tr>\n",
       "    <tr>\n",
       "      <th>10</th>\n",
       "      <td>0</td>\n",
       "      <td>1</td>\n",
       "      <td>0</td>\n",
       "      <td>0</td>\n",
       "      <td>0</td>\n",
       "    </tr>\n",
       "    <tr>\n",
       "      <th>11</th>\n",
       "      <td>0</td>\n",
       "      <td>1</td>\n",
       "      <td>0</td>\n",
       "      <td>0</td>\n",
       "      <td>0</td>\n",
       "    </tr>\n",
       "    <tr>\n",
       "      <th>12</th>\n",
       "      <td>0</td>\n",
       "      <td>1</td>\n",
       "      <td>0</td>\n",
       "      <td>0</td>\n",
       "      <td>0</td>\n",
       "    </tr>\n",
       "    <tr>\n",
       "      <th>13</th>\n",
       "      <td>0</td>\n",
       "      <td>1</td>\n",
       "      <td>0</td>\n",
       "      <td>0</td>\n",
       "      <td>0</td>\n",
       "    </tr>\n",
       "    <tr>\n",
       "      <th>14</th>\n",
       "      <td>0</td>\n",
       "      <td>1</td>\n",
       "      <td>0</td>\n",
       "      <td>0</td>\n",
       "      <td>0</td>\n",
       "    </tr>\n",
       "    <tr>\n",
       "      <th>15</th>\n",
       "      <td>0</td>\n",
       "      <td>1</td>\n",
       "      <td>0</td>\n",
       "      <td>0</td>\n",
       "      <td>0</td>\n",
       "    </tr>\n",
       "    <tr>\n",
       "      <th>16</th>\n",
       "      <td>0</td>\n",
       "      <td>1</td>\n",
       "      <td>0</td>\n",
       "      <td>0</td>\n",
       "      <td>0</td>\n",
       "    </tr>\n",
       "    <tr>\n",
       "      <th>17</th>\n",
       "      <td>0</td>\n",
       "      <td>1</td>\n",
       "      <td>0</td>\n",
       "      <td>0</td>\n",
       "      <td>0</td>\n",
       "    </tr>\n",
       "    <tr>\n",
       "      <th>18</th>\n",
       "      <td>0</td>\n",
       "      <td>1</td>\n",
       "      <td>0</td>\n",
       "      <td>0</td>\n",
       "      <td>0</td>\n",
       "    </tr>\n",
       "    <tr>\n",
       "      <th>19</th>\n",
       "      <td>0</td>\n",
       "      <td>1</td>\n",
       "      <td>0</td>\n",
       "      <td>0</td>\n",
       "      <td>0</td>\n",
       "    </tr>\n",
       "    <tr>\n",
       "      <th>20</th>\n",
       "      <td>0</td>\n",
       "      <td>1</td>\n",
       "      <td>0</td>\n",
       "      <td>0</td>\n",
       "      <td>0</td>\n",
       "    </tr>\n",
       "    <tr>\n",
       "      <th>21</th>\n",
       "      <td>0</td>\n",
       "      <td>1</td>\n",
       "      <td>0</td>\n",
       "      <td>0</td>\n",
       "      <td>0</td>\n",
       "    </tr>\n",
       "    <tr>\n",
       "      <th>22</th>\n",
       "      <td>0</td>\n",
       "      <td>1</td>\n",
       "      <td>0</td>\n",
       "      <td>0</td>\n",
       "      <td>0</td>\n",
       "    </tr>\n",
       "    <tr>\n",
       "      <th>23</th>\n",
       "      <td>0</td>\n",
       "      <td>1</td>\n",
       "      <td>0</td>\n",
       "      <td>0</td>\n",
       "      <td>0</td>\n",
       "    </tr>\n",
       "    <tr>\n",
       "      <th>24</th>\n",
       "      <td>0</td>\n",
       "      <td>1</td>\n",
       "      <td>0</td>\n",
       "      <td>0</td>\n",
       "      <td>0</td>\n",
       "    </tr>\n",
       "    <tr>\n",
       "      <th>25</th>\n",
       "      <td>0</td>\n",
       "      <td>0</td>\n",
       "      <td>1</td>\n",
       "      <td>0</td>\n",
       "      <td>0</td>\n",
       "    </tr>\n",
       "    <tr>\n",
       "      <th>26</th>\n",
       "      <td>0</td>\n",
       "      <td>0</td>\n",
       "      <td>1</td>\n",
       "      <td>0</td>\n",
       "      <td>0</td>\n",
       "    </tr>\n",
       "    <tr>\n",
       "      <th>27</th>\n",
       "      <td>0</td>\n",
       "      <td>1</td>\n",
       "      <td>0</td>\n",
       "      <td>0</td>\n",
       "      <td>0</td>\n",
       "    </tr>\n",
       "    <tr>\n",
       "      <th>28</th>\n",
       "      <td>0</td>\n",
       "      <td>1</td>\n",
       "      <td>0</td>\n",
       "      <td>0</td>\n",
       "      <td>0</td>\n",
       "    </tr>\n",
       "    <tr>\n",
       "      <th>29</th>\n",
       "      <td>0</td>\n",
       "      <td>1</td>\n",
       "      <td>0</td>\n",
       "      <td>0</td>\n",
       "      <td>0</td>\n",
       "    </tr>\n",
       "    <tr>\n",
       "      <th>30</th>\n",
       "      <td>0</td>\n",
       "      <td>1</td>\n",
       "      <td>0</td>\n",
       "      <td>0</td>\n",
       "      <td>0</td>\n",
       "    </tr>\n",
       "    <tr>\n",
       "      <th>31</th>\n",
       "      <td>0</td>\n",
       "      <td>1</td>\n",
       "      <td>0</td>\n",
       "      <td>0</td>\n",
       "      <td>0</td>\n",
       "    </tr>\n",
       "    <tr>\n",
       "      <th>32</th>\n",
       "      <td>0</td>\n",
       "      <td>1</td>\n",
       "      <td>0</td>\n",
       "      <td>0</td>\n",
       "      <td>0</td>\n",
       "    </tr>\n",
       "    <tr>\n",
       "      <th>33</th>\n",
       "      <td>0</td>\n",
       "      <td>1</td>\n",
       "      <td>0</td>\n",
       "      <td>0</td>\n",
       "      <td>0</td>\n",
       "    </tr>\n",
       "    <tr>\n",
       "      <th>34</th>\n",
       "      <td>0</td>\n",
       "      <td>1</td>\n",
       "      <td>0</td>\n",
       "      <td>0</td>\n",
       "      <td>0</td>\n",
       "    </tr>\n",
       "    <tr>\n",
       "      <th>35</th>\n",
       "      <td>0</td>\n",
       "      <td>1</td>\n",
       "      <td>0</td>\n",
       "      <td>0</td>\n",
       "      <td>0</td>\n",
       "    </tr>\n",
       "    <tr>\n",
       "      <th>36</th>\n",
       "      <td>0</td>\n",
       "      <td>0</td>\n",
       "      <td>0</td>\n",
       "      <td>1</td>\n",
       "      <td>0</td>\n",
       "    </tr>\n",
       "    <tr>\n",
       "      <th>37</th>\n",
       "      <td>0</td>\n",
       "      <td>0</td>\n",
       "      <td>0</td>\n",
       "      <td>1</td>\n",
       "      <td>0</td>\n",
       "    </tr>\n",
       "    <tr>\n",
       "      <th>38</th>\n",
       "      <td>1</td>\n",
       "      <td>0</td>\n",
       "      <td>0</td>\n",
       "      <td>0</td>\n",
       "      <td>0</td>\n",
       "    </tr>\n",
       "    <tr>\n",
       "      <th>39</th>\n",
       "      <td>0</td>\n",
       "      <td>0</td>\n",
       "      <td>0</td>\n",
       "      <td>0</td>\n",
       "      <td>1</td>\n",
       "    </tr>\n",
       "    <tr>\n",
       "      <th>40</th>\n",
       "      <td>1</td>\n",
       "      <td>0</td>\n",
       "      <td>0</td>\n",
       "      <td>0</td>\n",
       "      <td>0</td>\n",
       "    </tr>\n",
       "    <tr>\n",
       "      <th>41</th>\n",
       "      <td>0</td>\n",
       "      <td>0</td>\n",
       "      <td>0</td>\n",
       "      <td>0</td>\n",
       "      <td>1</td>\n",
       "    </tr>\n",
       "    <tr>\n",
       "      <th>42</th>\n",
       "      <td>0</td>\n",
       "      <td>0</td>\n",
       "      <td>0</td>\n",
       "      <td>0</td>\n",
       "      <td>1</td>\n",
       "    </tr>\n",
       "    <tr>\n",
       "      <th>43</th>\n",
       "      <td>0</td>\n",
       "      <td>0</td>\n",
       "      <td>0</td>\n",
       "      <td>0</td>\n",
       "      <td>1</td>\n",
       "    </tr>\n",
       "    <tr>\n",
       "      <th>44</th>\n",
       "      <td>1</td>\n",
       "      <td>0</td>\n",
       "      <td>0</td>\n",
       "      <td>0</td>\n",
       "      <td>0</td>\n",
       "    </tr>\n",
       "    <tr>\n",
       "      <th>45</th>\n",
       "      <td>0</td>\n",
       "      <td>0</td>\n",
       "      <td>0</td>\n",
       "      <td>1</td>\n",
       "      <td>0</td>\n",
       "    </tr>\n",
       "    <tr>\n",
       "      <th>46</th>\n",
       "      <td>0</td>\n",
       "      <td>1</td>\n",
       "      <td>0</td>\n",
       "      <td>0</td>\n",
       "      <td>0</td>\n",
       "    </tr>\n",
       "    <tr>\n",
       "      <th>47</th>\n",
       "      <td>1</td>\n",
       "      <td>0</td>\n",
       "      <td>0</td>\n",
       "      <td>0</td>\n",
       "      <td>0</td>\n",
       "    </tr>\n",
       "    <tr>\n",
       "      <th>48</th>\n",
       "      <td>0</td>\n",
       "      <td>1</td>\n",
       "      <td>0</td>\n",
       "      <td>0</td>\n",
       "      <td>0</td>\n",
       "    </tr>\n",
       "    <tr>\n",
       "      <th>49</th>\n",
       "      <td>0</td>\n",
       "      <td>1</td>\n",
       "      <td>0</td>\n",
       "      <td>0</td>\n",
       "      <td>0</td>\n",
       "    </tr>\n",
       "    <tr>\n",
       "      <th>50</th>\n",
       "      <td>0</td>\n",
       "      <td>0</td>\n",
       "      <td>1</td>\n",
       "      <td>0</td>\n",
       "      <td>0</td>\n",
       "    </tr>\n",
       "    <tr>\n",
       "      <th>51</th>\n",
       "      <td>0</td>\n",
       "      <td>1</td>\n",
       "      <td>0</td>\n",
       "      <td>0</td>\n",
       "      <td>0</td>\n",
       "    </tr>\n",
       "    <tr>\n",
       "      <th>52</th>\n",
       "      <td>0</td>\n",
       "      <td>0</td>\n",
       "      <td>0</td>\n",
       "      <td>1</td>\n",
       "      <td>0</td>\n",
       "    </tr>\n",
       "    <tr>\n",
       "      <th>53</th>\n",
       "      <td>0</td>\n",
       "      <td>1</td>\n",
       "      <td>0</td>\n",
       "      <td>0</td>\n",
       "      <td>0</td>\n",
       "    </tr>\n",
       "    <tr>\n",
       "      <th>54</th>\n",
       "      <td>0</td>\n",
       "      <td>0</td>\n",
       "      <td>0</td>\n",
       "      <td>1</td>\n",
       "      <td>0</td>\n",
       "    </tr>\n",
       "    <tr>\n",
       "      <th>55</th>\n",
       "      <td>0</td>\n",
       "      <td>1</td>\n",
       "      <td>0</td>\n",
       "      <td>0</td>\n",
       "      <td>0</td>\n",
       "    </tr>\n",
       "  </tbody>\n",
       "</table>\n",
       "</div>"
      ],
      "text/plain": [
       "    0  1  2  3  4\n",
       "0   0  1  0  0  0\n",
       "1   0  1  0  0  0\n",
       "2   0  0  0  1  0\n",
       "3   0  0  0  1  0\n",
       "4   0  1  0  0  0\n",
       "5   0  0  1  0  0\n",
       "6   0  1  0  0  0\n",
       "7   0  1  0  0  0\n",
       "8   0  0  0  1  0\n",
       "9   0  0  0  1  0\n",
       "10  0  1  0  0  0\n",
       "11  0  1  0  0  0\n",
       "12  0  1  0  0  0\n",
       "13  0  1  0  0  0\n",
       "14  0  1  0  0  0\n",
       "15  0  1  0  0  0\n",
       "16  0  1  0  0  0\n",
       "17  0  1  0  0  0\n",
       "18  0  1  0  0  0\n",
       "19  0  1  0  0  0\n",
       "20  0  1  0  0  0\n",
       "21  0  1  0  0  0\n",
       "22  0  1  0  0  0\n",
       "23  0  1  0  0  0\n",
       "24  0  1  0  0  0\n",
       "25  0  0  1  0  0\n",
       "26  0  0  1  0  0\n",
       "27  0  1  0  0  0\n",
       "28  0  1  0  0  0\n",
       "29  0  1  0  0  0\n",
       "30  0  1  0  0  0\n",
       "31  0  1  0  0  0\n",
       "32  0  1  0  0  0\n",
       "33  0  1  0  0  0\n",
       "34  0  1  0  0  0\n",
       "35  0  1  0  0  0\n",
       "36  0  0  0  1  0\n",
       "37  0  0  0  1  0\n",
       "38  1  0  0  0  0\n",
       "39  0  0  0  0  1\n",
       "40  1  0  0  0  0\n",
       "41  0  0  0  0  1\n",
       "42  0  0  0  0  1\n",
       "43  0  0  0  0  1\n",
       "44  1  0  0  0  0\n",
       "45  0  0  0  1  0\n",
       "46  0  1  0  0  0\n",
       "47  1  0  0  0  0\n",
       "48  0  1  0  0  0\n",
       "49  0  1  0  0  0\n",
       "50  0  0  1  0  0\n",
       "51  0  1  0  0  0\n",
       "52  0  0  0  1  0\n",
       "53  0  1  0  0  0\n",
       "54  0  0  0  1  0\n",
       "55  0  1  0  0  0"
      ]
     },
     "execution_count": 50,
     "metadata": {
      "tags": []
     },
     "output_type": "execute_result"
    }
   ],
   "source": [
    "pd.get_dummies(km2.labels_)"
   ]
  },
  {
   "cell_type": "code",
   "execution_count": 51,
   "metadata": {
    "colab": {
     "base_uri": "https://localhost:8080/",
     "height": 347
    },
    "colab_type": "code",
    "id": "NGdATsC0711S",
    "outputId": "333e70ec-c033-4445-948c-8b62057d4f55"
   },
   "outputs": [
    {
     "data": {
      "text/plain": [
       "array([[[0.23040131, 0.79568792, 0.60476783, 0.29642202, 0.62151894],\n",
       "        [0.76617443, 0.24638435, 0.77216055, 0.47653046, 0.42685494],\n",
       "        [0.10759935, 0.65053712, 0.37541711, 0.34030052, 0.0786942 ],\n",
       "        [0.62104103, 0.47802681, 0.67123443, 0.45812244, 0.76506257]],\n",
       "\n",
       "       [[0.40941388, 0.72771747, 0.60649016, 0.45379537, 0.5942125 ],\n",
       "        [0.46789689, 0.49655215, 0.30817662, 0.54606337, 0.52088307],\n",
       "        [0.48887085, 0.81961843, 0.74895568, 0.53473914, 0.42824067],\n",
       "        [0.51023109, 0.54371961, 0.52809702, 0.55731914, 0.59157515]],\n",
       "\n",
       "       [[0.36964705, 0.7438162 , 0.63918409, 0.36701051, 0.48019278],\n",
       "        [0.40359276, 0.36539355, 0.55584618, 0.44366223, 0.68579285],\n",
       "        [0.44732298, 0.77022963, 0.61867797, 0.53121487, 0.18481509],\n",
       "        [0.53921243, 0.58211479, 0.57173933, 0.5446978 , 0.68794779]],\n",
       "\n",
       "       [[0.56107064, 0.69054124, 0.58628834, 0.41487108, 0.45325991],\n",
       "        [0.26180569, 0.38738231, 0.66298455, 0.48964086, 0.67391201],\n",
       "        [0.6340209 , 0.73545744, 0.61123554, 0.49683861, 0.35851472],\n",
       "        [0.50654979, 0.47272226, 0.48042637, 0.4893811 , 0.52169027]]])"
      ]
     },
     "execution_count": 51,
     "metadata": {
      "tags": []
     },
     "output_type": "execute_result"
    }
   ],
   "source": [
    "sigmoid(core)"
   ]
  },
  {
   "cell_type": "code",
   "execution_count": 0,
   "metadata": {
    "colab": {},
    "colab_type": "code",
    "id": "fjhxDt-m711v"
   },
   "outputs": [],
   "source": []
  }
 ],
 "metadata": {
  "colab": {
   "name": "Tucker_decomp_binary.ipynb",
   "provenance": [],
   "version": "0.3.2"
  },
  "kernelspec": {
   "display_name": "Python 3",
   "language": "python",
   "name": "python3"
  },
  "language_info": {
   "codemirror_mode": {
    "name": "ipython",
    "version": 3
   },
   "file_extension": ".py",
   "mimetype": "text/x-python",
   "name": "python",
   "nbconvert_exporter": "python",
   "pygments_lexer": "ipython3",
   "version": "3.6.5"
  }
 },
 "nbformat": 4,
 "nbformat_minor": 1
}
